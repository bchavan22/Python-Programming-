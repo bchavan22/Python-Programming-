{
 "cells": [
  {
   "cell_type": "markdown",
   "metadata": {
    "id": "Un18vvDS6hU-"
   },
   "source": [
    "# What is variables?"
   ]
  },
  {
   "cell_type": "code",
   "execution_count": 1,
   "metadata": {
    "colab": {
     "base_uri": "https://localhost:8080/"
    },
    "id": "PNf4NF4X6g_u",
    "outputId": "b3a1c09f-17a2-4a35-e616-4c1352351cc4"
   },
   "outputs": [
    {
     "name": "stdout",
     "output_type": "stream",
     "text": [
      "a(variable) =  9\n",
      "Rent(variable) 18000\n"
     ]
    }
   ],
   "source": [
    "#Variables are assigned name to any argument or code you want to work\n",
    "a = 12-3\n",
    "\n",
    "print(\"a(variable) = \",a)\n",
    "\n",
    "\n",
    "Rent = 1500 *12\n",
    "\n",
    "print(\"Rent(variable)\", Rent)"
   ]
  },
  {
   "cell_type": "markdown",
   "metadata": {
    "id": "A3FB86rGAa_u"
   },
   "source": [
    "\n",
    "\n",
    "# **Arithmetic operators**\n",
    "\n",
    "\n",
    "\n"
   ]
  },
  {
   "cell_type": "markdown",
   "metadata": {
    "id": "n976u8Di6Z6M"
   },
   "source": [
    "How numbers works in Python?"
   ]
  },
  {
   "cell_type": "code",
   "execution_count": 2,
   "metadata": {
    "colab": {
     "base_uri": "https://localhost:8080/"
    },
    "id": "q2wWS_N-6Wvh",
    "outputId": "9949cea3-e975-4ed2-8519-f33bc825dbae"
   },
   "outputs": [
    {
     "name": "stdout",
     "output_type": "stream",
     "text": [
      "Addition =  123579\n",
      "Subtract =  44\n",
      "Multiplication =  5535\n",
      "Division =  2.7333333333333334\n",
      "Cube =  8\n",
      "Square =  4\n",
      "Modulus =  3\n",
      "Floor division =  21\n"
     ]
    }
   ],
   "source": [
    "#Basics Numbers workes directly \n",
    "\n",
    "print('Addition = ',123+123456) #Addition \n",
    "\n",
    "print('Subtract = ',122-78) # subtract \n",
    "\n",
    "print('Multiplication = ',123*45) # Multiplication \n",
    "\n",
    "print('Division = ',123/45) # Division  \n",
    "\n",
    "print('Cube = ',2**3) #Cube #Exponentiation\n",
    "\n",
    "print('Square = ',2**2) #Square #Exponentiation\n",
    "\n",
    "print('Modulus = ',8%5) #Modulus\n",
    "\n",
    "print('Floor division = ',234//11) #Floor division"
   ]
  },
  {
   "cell_type": "code",
   "execution_count": 3,
   "metadata": {
    "colab": {
     "base_uri": "https://localhost:8080/"
    },
    "id": "qEhdjqziBd2z",
    "outputId": "20432b45-db6a-46c0-c856-57df9e504d1d"
   },
   "outputs": [
    {
     "name": "stdout",
     "output_type": "stream",
     "text": [
      "13\n",
      "9\n",
      "22\n",
      "5.5\n",
      "5\n",
      "-11\n",
      "11\n",
      "121\n"
     ]
    }
   ],
   "source": [
    "x, y = 11, 2\n",
    "(print(x + y),\n",
    "print(x - y),\n",
    "print(x * y),\n",
    "print(x / y),\n",
    "print(x // y),\n",
    "print(-x),\n",
    "print(abs(-x)))\n",
    "\n",
    "print(x ** y)\n"
   ]
  },
  {
   "cell_type": "markdown",
   "metadata": {
    "id": "c_ZE5ps2ExDS"
   },
   "source": [
    "# **Working with Strings**\n",
    "\n",
    "\n",
    "##### Indexing and Slicing\n",
    "\n",
    "The four main ways to create strings are the following.\n",
    "\n",
    "1. Single quotes\n",
    "'Yes'\n",
    "2. Double quotes\n",
    "\"Yes\"\n",
    "3. Triple quotes (multi-line)\n",
    "\"\"\"Yes\n",
    "We Can\"\"\"\n",
    "4. String method\n",
    "str(​5​) == ​'5'​ ​# True 5. Concatenation\n",
    "\"LO\"​ + ​\"VE\"​ ​# 'LOVE'\n",
    "\n",
    "These are whitespace characters in strings.\n",
    "\n",
    "● Newline ​\\n\n",
    "\n",
    "● Space ​\\s\n",
    "\n",
    "● Tab ​\\t\n"
   ]
  },
  {
   "cell_type": "code",
   "execution_count": 26,
   "metadata": {
    "colab": {
     "base_uri": "https://localhost:8080/"
    },
    "id": "4Rj82D9u5hhc",
    "outputId": "6aee99cd-5c6e-4481-fb6c-89731af2a5d3"
   },
   "outputs": [
    {
     "name": "stdout",
     "output_type": "stream",
     "text": [
      "It is simple, (but not easy) Force yourself, out of your head PAST your feelings. Outside of your comfort Zone\n"
     ]
    }
   ],
   "source": [
    "a = 'It is simple, (but not easy) Force yourself, out of your head PAST your feelings. Outside of your comfort Zone'\n",
    "print(a)\n"
   ]
  },
  {
   "cell_type": "code",
   "execution_count": 5,
   "metadata": {
    "colab": {
     "base_uri": "https://localhost:8080/"
    },
    "id": "de98TdFW54Xf",
    "outputId": "4b99e702-065c-4962-b617-316f6a8d1999"
   },
   "outputs": [
    {
     "name": "stdout",
     "output_type": "stream",
     "text": [
      "It is simple,(but not easy) Force yourself,out of your head PAST your feelings.Outside of your comfort Zone\n"
     ]
    }
   ],
   "source": [
    "a = \"It is simple,(but not easy) Force yourself,out of your head PAST your feelings.Outside of your comfort Zone\"\n",
    "\n",
    "print(a)"
   ]
  },
  {
   "cell_type": "code",
   "execution_count": 6,
   "metadata": {
    "colab": {
     "base_uri": "https://localhost:8080/"
    },
    "id": "AZCY8JHNGAGx",
    "outputId": "d8f49502-9586-4b46-d485-ac26ea7970d5"
   },
   "outputs": [
    {
     "name": "stdout",
     "output_type": "stream",
     "text": [
      "'It is simple, (but not easy) Force yourself, out of your head PAST your feelings. Outside of your comfort Zone'\n"
     ]
    }
   ],
   "source": [
    "a = \"'It is simple, (but not easy) Force yourself, out of your head PAST your feelings. Outside of your comfort Zone'\"\n",
    "\n",
    "print(a)"
   ]
  },
  {
   "cell_type": "code",
   "execution_count": 7,
   "metadata": {
    "colab": {
     "base_uri": "https://localhost:8080/"
    },
    "id": "haPFNunTGNNO",
    "outputId": "f4e2d81f-02aa-43da-bb3c-81c321149cfd"
   },
   "outputs": [
    {
     "name": "stdout",
     "output_type": "stream",
     "text": [
      "I\n",
      "t is sim\n",
      "o\n",
      "fort Zone\n",
      "IT IS SIMPLE, (BUT NOT EASY) FORCE YOURSELF, OUT OF YOUR HEAD PAST YOUR FEELINGS. OUTSIDE OF YOUR COMFORT ZONE\n",
      "it is simple, (but not easy) force yourself, out of your head past your feelings. outside of your comfort zone\n",
      "False\n",
      "True\n",
      "15\n",
      "It is simple, (Butttttt not easy) Force yourself, out of your head PAST your feelings. Outside of your comfort Zone\n",
      "FIt is simple, (but not easy) Force yourself, out of your head PAST your feelings. Outside of your comfort ZoneBIt is simple, (but not easy) Force yourself, out of your head PAST your feelings. Outside of your comfort ZoneBIt is simple, (but not easy) Force yourself, out of your head PAST your feelings. Outside of your comfort ZoneUIt is simple, (but not easy) Force yourself, out of your head PAST your feelings. Outside of your comfort ZoneTIt is simple, (but not easy) Force yourself, out of your head PAST your feelings. Outside of your comfort ZoneTIt is simple, (but not easy) Force yourself, out of your head PAST your feelings. Outside of your comfort ZoneTIt is simple, (but not easy) Force yourself, out of your head PAST your feelings. Outside of your comfort ZoneTIt is simple, (but not easy) Force yourself, out of your head PAST your feelings. Outside of your comfort ZoneTIt is simple, (but not easy) Force yourself, out of your head PAST your feelings. Outside of your comfort ZoneT\n",
      "110\n",
      "(butqwerty\n"
     ]
    }
   ],
   "source": [
    "from os import replace\n",
    "a =('It is simple, (but not easy) Force yourself, out of your head PAST your feelings. Outside of your comfort Zone')\n",
    "\n",
    "print(a[0])\n",
    "\n",
    "print(a[1:9])\n",
    "\n",
    "print(a[-3])\n",
    "\n",
    "print(a[-9:])\n",
    "\n",
    "print(a.upper())\n",
    "\n",
    "print(a.lower())\n",
    "\n",
    "print(a.startswith('easy'))\n",
    "\n",
    "print(a.endswith('Zone')) \n",
    "\n",
    "print(a.find('but')) #To find out the letters or words positions\n",
    "\n",
    "print(a.replace(\"bu\" ,\"Buttttt\"))\n",
    "\n",
    "print(a.join('FBBUTTTTTT'))\n",
    "\n",
    "\n",
    "print(len(a))\n",
    "\n",
    "\n",
    "\n",
    "\n",
    "\n",
    "x = a.split()\n",
    "\n",
    "print(x[3]+ \"qwerty\")"
   ]
  },
  {
   "cell_type": "markdown",
   "metadata": {
    "id": "yp9eQZKfMs9z"
   },
   "source": [
    "#**LIST**"
   ]
  },
  {
   "cell_type": "markdown",
   "metadata": {
    "id": "PlhdyXHrNgrT"
   },
   "source": [
    "####There are four collection data types in the Python programming language:\n",
    "\n",
    "1. **List** is a collection which is ordered and changeable. Allows duplicate members.\n",
    "\n",
    "2. **Tuple** is a collection which is ordered and unchangeable. Allows duplicate members.\n",
    "\n",
    "3. **Set** is a collection which is unordered, unchangeable*, and unindexed. No duplicate members.\n",
    "\n",
    "4. **Dictionary** is a collection which is ordered** and changeable. No duplicate members."
   ]
  },
  {
   "cell_type": "code",
   "execution_count": 8,
   "metadata": {
    "colab": {
     "base_uri": "https://localhost:8080/"
    },
    "id": "0IFeSIaEJtE1",
    "outputId": "aeef2663-77e9-402a-c4b7-0f1f21888292"
   },
   "outputs": [
    {
     "name": "stdout",
     "output_type": "stream",
     "text": [
      "[1, 2, 4, 5, 6, 7, 9, 0, 1, 2]\n",
      "10\n",
      "<class 'list'>\n",
      "1\n",
      "[4, 5, 6, 7, 9]\n",
      "[1, 2, 4, 5]\n",
      "[9, 0, 1, 2]\n",
      "[1, 2, 4, 5, 6, 7]\n",
      "6\n",
      "[1, 2, 4, 5, 6, 7, 9, 0, 1, 2]\n"
     ]
    }
   ],
   "source": [
    "a = [1,2,4,5,6,7,9,0,1,2]\n",
    "\n",
    "print(a)\n",
    "\n",
    "print(len(a))\n",
    "\n",
    "print(type(a))\n",
    "\n",
    "print(a[-2])\n",
    "\n",
    "print(a[2:7])\n",
    "\n",
    "print(a[:4])\n",
    "\n",
    "print(a[6:])\n",
    "\n",
    "print(a[:-4])\n",
    "\n",
    "print(a[4])\n",
    "\n",
    "print(a[:])"
   ]
  },
  {
   "cell_type": "code",
   "execution_count": 9,
   "metadata": {
    "colab": {
     "base_uri": "https://localhost:8080/"
    },
    "id": "7LtmS0QKNC3o",
    "outputId": "fba30378-46b7-4d6c-e756-edb62ea6e587"
   },
   "outputs": [
    {
     "name": "stdout",
     "output_type": "stream",
     "text": [
      "['apple', 'banana', 'cherry', 'orange', 'kiwi', 'melon', 'mango']\n",
      "7\n",
      "<class 'list'>\n",
      "melon\n",
      "['cherry', 'orange', 'kiwi', 'melon', 'mango']\n",
      "['apple', 'banana', 'cherry', 'orange']\n",
      "['mango']\n",
      "['apple', 'banana', 'cherry']\n",
      "kiwi\n",
      "['orange', 'kiwi', 'melon']\n",
      "['orange', 'kiwi', 'melon', 'mango']\n",
      "['apple', 'banana', 'cherry', 'orange']\n",
      "['apple', 'banana', 'cherry', 'orange', 'kiwi', 'melon', 'mango']\n"
     ]
    }
   ],
   "source": [
    "x= [\"apple\", \"banana\", \"cherry\", \"orange\", \"kiwi\", \"melon\", \"mango\"]\n",
    "\n",
    "print(x)\n",
    "\n",
    "print(len(x))\n",
    "\n",
    "print(type(x))\n",
    "\n",
    "print(x[-2])\n",
    "\n",
    "print(x[2:7])\n",
    "\n",
    "print(x[:4])\n",
    "\n",
    "print(x[6:])\n",
    "\n",
    "print(x[:-4])\n",
    "\n",
    "print(x[4])\n",
    "\n",
    "print(x[-4:-1])\n",
    "\n",
    "print(x[-4:])\n",
    "\n",
    "print(x[:-3])\n",
    "\n",
    "print(x[:])\n"
   ]
  },
  {
   "cell_type": "code",
   "execution_count": 10,
   "metadata": {
    "colab": {
     "base_uri": "https://localhost:8080/"
    },
    "id": "3a39ySF6O7oQ",
    "outputId": "fe3e74eb-65ae-45c8-9a19-e9f1aff6ead6"
   },
   "outputs": [
    {
     "name": "stdout",
     "output_type": "stream",
     "text": [
      "['apple', 'banana', 'cherry', 'orange', 'kiwi', 'melon', 'mango', 'Kombucha']\n"
     ]
    }
   ],
   "source": [
    "x.append('Kombucha') #Append Items\n",
    "\n",
    "print(x)"
   ]
  },
  {
   "cell_type": "code",
   "execution_count": 11,
   "metadata": {
    "colab": {
     "base_uri": "https://localhost:8080/"
    },
    "id": "cGsRDsFMQPqT",
    "outputId": "c2d082fc-65ef-48f3-c5cc-37df81cf64a7"
   },
   "outputs": [
    {
     "name": "stdout",
     "output_type": "stream",
     "text": [
      "['apple', 'Peru', 'banana', 'cherry', 'orange', 'kiwi', 'melon', 'mango', 'Kombucha']\n"
     ]
    }
   ],
   "source": [
    "x.insert(1,'Peru') #Insert Items with positioning \n",
    "\n",
    "print(x)"
   ]
  },
  {
   "cell_type": "code",
   "execution_count": 12,
   "metadata": {
    "colab": {
     "base_uri": "https://localhost:8080/"
    },
    "id": "snvgRbr1QZa3",
    "outputId": "db7ff9ec-f446-47e7-e17c-a6e913524334"
   },
   "outputs": [
    {
     "name": "stdout",
     "output_type": "stream",
     "text": [
      "['apple', 'Peru', 'banana', 'cherry', 'orange', 'kiwi', 'melon', 'mango', 'Kombucha', 'Sugarcane']\n"
     ]
    }
   ],
   "source": [
    "x\n",
    "l = ['Sugarcane']\n",
    "x.extend(l) #Extend List\n",
    "\n",
    "print(x)"
   ]
  },
  {
   "cell_type": "code",
   "execution_count": 13,
   "metadata": {
    "colab": {
     "base_uri": "https://localhost:8080/"
    },
    "id": "zmPFKdzdRa44",
    "outputId": "fb6e547b-c873-4c3f-c880-bbd162b31aa4"
   },
   "outputs": [
    {
     "name": "stdout",
     "output_type": "stream",
     "text": [
      "['apple', 'banana', 'cherry', 'orange', 'kiwi', 'melon', 'mango', 'Kombucha', 'Sugarcane']\n"
     ]
    }
   ],
   "source": [
    "x = ['apple', 'Peru', 'banana', 'cherry', 'orange', 'kiwi', 'melon', 'mango', 'Kombucha', 'Sugarcane']\n",
    "\n",
    "x.remove(\"Peru\")\n",
    "\n",
    "print(x)"
   ]
  },
  {
   "cell_type": "markdown",
   "metadata": {
    "id": "yKHfwcAASOLe"
   },
   "source": [
    "Remove Specified Index\n",
    "\n",
    "The pop() method removes the specified index."
   ]
  },
  {
   "cell_type": "code",
   "execution_count": 14,
   "metadata": {
    "colab": {
     "base_uri": "https://localhost:8080/"
    },
    "id": "ntJXDGXxRzHD",
    "outputId": "b84614fe-0be9-42ea-b784-b73fc5771051"
   },
   "outputs": [
    {
     "name": "stdout",
     "output_type": "stream",
     "text": [
      "['Peru', 'banana', 'cherry', 'orange', 'kiwi', 'melon', 'mango', 'Kombucha', 'Sugarcane']\n"
     ]
    }
   ],
   "source": [
    "x = ['apple', 'Peru', 'banana', 'cherry', 'orange', 'kiwi', 'melon', 'mango', 'Kombucha', 'Sugarcane']\n",
    "\n",
    "x.pop(0)\n",
    "\n",
    "print(x)"
   ]
  },
  {
   "cell_type": "code",
   "execution_count": 15,
   "metadata": {
    "colab": {
     "base_uri": "https://localhost:8080/"
    },
    "id": "-sR0q7VQSUVB",
    "outputId": "4300dd29-9f13-4ead-ab5b-0edc11645821"
   },
   "outputs": [
    {
     "name": "stdout",
     "output_type": "stream",
     "text": [
      "['apple', 'Peru', 'banana', 'cherry', 'orange', 'kiwi', 'melon', 'mango', 'Kombucha']\n"
     ]
    }
   ],
   "source": [
    "x = ['apple', 'Peru', 'banana', 'cherry', 'orange', 'kiwi', 'melon', 'mango', 'Kombucha', 'Sugarcane']\n",
    "\n",
    "x.pop()\n",
    "\n",
    "print(x)"
   ]
  },
  {
   "cell_type": "markdown",
   "metadata": {
    "id": "bfmb8msmSg4u"
   },
   "source": [
    "The del() keyword also removes the specified index:"
   ]
  },
  {
   "cell_type": "code",
   "execution_count": 16,
   "metadata": {
    "colab": {
     "base_uri": "https://localhost:8080/"
    },
    "id": "ttjP0c0TSbDM",
    "outputId": "2bf041ea-ce26-4833-e421-fbc4f1544ab5"
   },
   "outputs": [
    {
     "name": "stdout",
     "output_type": "stream",
     "text": [
      "['apple', 'Peru', 'banana', 'cherry', 'kiwi', 'melon', 'mango', 'Kombucha', 'Sugarcane']\n"
     ]
    }
   ],
   "source": [
    "x = ['apple', 'Peru', 'banana', 'cherry', 'orange', 'kiwi', 'melon', 'mango', 'Kombucha', 'Sugarcane']\n",
    "\n",
    "del x[4]\n",
    "\n",
    "print(x)"
   ]
  },
  {
   "cell_type": "code",
   "execution_count": 17,
   "metadata": {
    "colab": {
     "base_uri": "https://localhost:8080/"
    },
    "id": "Dxhd051FSsMd",
    "outputId": "2a01469b-972f-40de-cc9d-87d1a7fc84d7"
   },
   "outputs": [
    {
     "name": "stdout",
     "output_type": "stream",
     "text": [
      "['orange', 'kiwi', 'melon', 'mango', 'Kombucha', 'Sugarcane']\n"
     ]
    }
   ],
   "source": [
    "x = ['apple', 'Peru', 'banana', 'cherry', 'orange', 'kiwi', 'melon', 'mango', 'Kombucha', 'Sugarcane']\n",
    "\n",
    "del x[0:4]\n",
    "\n",
    "print(x)"
   ]
  },
  {
   "cell_type": "code",
   "execution_count": 18,
   "metadata": {
    "id": "bjiLDqf8SwRz"
   },
   "outputs": [],
   "source": [
    "x = ['apple', 'Peru', 'banana', 'cherry', 'orange', 'kiwi', 'melon', 'mango', 'Kombucha', 'Sugarcane']\n",
    "\n",
    "del x\n",
    "\n"
   ]
  },
  {
   "cell_type": "markdown",
   "metadata": {
    "id": "G-QBnPJGS75t"
   },
   "source": [
    "Clear the List\n",
    "\n",
    "The clear() method empties the list."
   ]
  },
  {
   "cell_type": "code",
   "execution_count": 19,
   "metadata": {
    "colab": {
     "base_uri": "https://localhost:8080/"
    },
    "id": "3KDTg28zS2BK",
    "outputId": "16fffca1-bf71-4caf-da4a-5dcff70d4153"
   },
   "outputs": [
    {
     "name": "stdout",
     "output_type": "stream",
     "text": [
      "[]\n"
     ]
    }
   ],
   "source": [
    "x = ['apple', 'Peru', 'banana', 'cherry', 'orange', 'kiwi', 'melon', 'mango', 'Kombucha', 'Sugarcane']\n",
    "\n",
    "x.clear()\n",
    "\n",
    "print(x) #empty list"
   ]
  },
  {
   "cell_type": "markdown",
   "metadata": {
    "id": "968JZs-QTZYs"
   },
   "source": [
    "#**Python - Loop Lists**"
   ]
  },
  {
   "cell_type": "markdown",
   "metadata": {
    "id": "juG0A0PuTgZx"
   },
   "source": [
    "Loop Through a List"
   ]
  },
  {
   "cell_type": "code",
   "execution_count": 27,
   "metadata": {
    "colab": {
     "base_uri": "https://localhost:8080/"
    },
    "id": "2vYbyaNQTGQc",
    "outputId": "7fc60bff-45c3-439c-d75a-abb7d2ded0b3"
   },
   "outputs": [
    {
     "name": "stdout",
     "output_type": "stream",
     "text": [
      "apple\n",
      "Peru\n",
      "banana\n",
      "cherry\n",
      "orange\n",
      "kiwi\n",
      "melon\n",
      "mango\n",
      "Kombucha\n",
      "Sugarcane\n",
      "['apple', 'Peru', 'banana', 'cherry', 'orange', 'kiwi', 'melon', 'mango', 'Kombucha', 'Sugarcane']\n"
     ]
    }
   ],
   "source": [
    "b = ['apple', 'Peru', 'banana', 'cherry', 'orange', 'kiwi', 'melon', 'mango', 'Kombucha', 'Sugarcane']\n",
    "\n",
    "for z in b:\n",
    "  print(z)\n",
    "\n",
    "print(b)"
   ]
  },
  {
   "cell_type": "markdown",
   "metadata": {
    "id": "dQ3OQLbPTyLw"
   },
   "source": [
    "Use the range() and len() \n",
    "\n",
    "functions to create a suitable iterable."
   ]
  },
  {
   "cell_type": "code",
   "execution_count": 21,
   "metadata": {
    "colab": {
     "base_uri": "https://localhost:8080/"
    },
    "id": "mi4LtFdyTuPN",
    "outputId": "e9a54d44-8675-4316-c7c0-41f7a56f6bbc"
   },
   "outputs": [
    {
     "name": "stdout",
     "output_type": "stream",
     "text": [
      "0\n",
      "1\n",
      "2\n",
      "3\n",
      "4\n",
      "5\n",
      "6\n",
      "7\n",
      "8\n",
      "9\n"
     ]
    }
   ],
   "source": [
    "b = ['apple', 'Peru', 'banana', 'cherry', 'orange', 'kiwi', 'melon', 'mango', 'Kombucha', 'Sugarcane']\n",
    "\n",
    "for z in range(len(b)):\n",
    "  print(z)"
   ]
  },
  {
   "cell_type": "markdown",
   "metadata": {
    "id": "D6Vhr9d8UJYF"
   },
   "source": [
    "Using a While Loop"
   ]
  },
  {
   "cell_type": "code",
   "execution_count": 22,
   "metadata": {
    "colab": {
     "base_uri": "https://localhost:8080/"
    },
    "id": "Vimci5rnUFWw",
    "outputId": "4f250b57-cf42-45a7-99ee-7bb2a287de5c"
   },
   "outputs": [
    {
     "name": "stdout",
     "output_type": "stream",
     "text": [
      "orange\n",
      "kiwi\n",
      "melon\n",
      "mango\n",
      "Kombucha\n",
      "Sugarcane\n"
     ]
    }
   ],
   "source": [
    "b = ['apple', 'Peru', 'banana', 'cherry', 'orange', 'kiwi', 'melon', 'mango', 'Kombucha', 'Sugarcane']\n",
    "\n",
    "z = 4\n",
    "while z < len(b):\n",
    "  print(b[z])\n",
    " \n",
    "  z = z +1\n"
   ]
  },
  {
   "cell_type": "code",
   "execution_count": 23,
   "metadata": {
    "colab": {
     "base_uri": "https://localhost:8080/"
    },
    "id": "AfmQVeV5UvDr",
    "outputId": "3f7f1482-2ad6-43eb-ce78-2ca20d1ba390"
   },
   "outputs": [
    {
     "name": "stdout",
     "output_type": "stream",
     "text": [
      "['apple', 'Peru', 'banana', 'cherry', 'orange', 'kiwi', 'melon', 'mango', 'Kombucha', 'Sugarcane']\n",
      "['apple', 'Peru', 'banana', 'cherry', 'orange', 'kiwi', 'melon', 'mango', 'Kombucha', 'Sugarcane']\n",
      "['apple', 'Peru', 'banana', 'cherry', 'orange', 'kiwi', 'melon', 'mango', 'Kombucha', 'Sugarcane']\n",
      "['apple', 'Peru', 'banana', 'cherry', 'orange', 'kiwi', 'melon', 'mango', 'Kombucha', 'Sugarcane']\n",
      "['apple', 'Peru', 'banana', 'cherry', 'orange', 'kiwi', 'melon', 'mango', 'Kombucha', 'Sugarcane']\n",
      "['apple', 'Peru', 'banana', 'cherry', 'orange', 'kiwi', 'melon', 'mango', 'Kombucha', 'Sugarcane']\n",
      "['apple', 'Peru', 'banana', 'cherry', 'orange', 'kiwi', 'melon', 'mango', 'Kombucha', 'Sugarcane']\n",
      "['apple', 'Peru', 'banana', 'cherry', 'orange', 'kiwi', 'melon', 'mango', 'Kombucha', 'Sugarcane']\n",
      "['apple', 'Peru', 'banana', 'cherry', 'orange', 'kiwi', 'melon', 'mango', 'Kombucha', 'Sugarcane']\n",
      "['apple', 'Peru', 'banana', 'cherry', 'orange', 'kiwi', 'melon', 'mango', 'Kombucha', 'Sugarcane']\n"
     ]
    },
    {
     "data": {
      "text/plain": [
       "[None, None, None, None, None, None, None, None, None, None]"
      ]
     },
     "execution_count": 23,
     "metadata": {},
     "output_type": "execute_result"
    }
   ],
   "source": [
    "b = ['apple', 'Peru', 'banana', 'cherry', 'orange', 'kiwi', 'melon', 'mango', 'Kombucha', 'Sugarcane']\n",
    "\n",
    "#FOR Loop\n",
    "\n",
    "[print(b) for z in b]\n"
   ]
  },
  {
   "cell_type": "code",
   "execution_count": 24,
   "metadata": {
    "colab": {
     "base_uri": "https://localhost:8080/"
    },
    "id": "AtgEkseDVqsy",
    "outputId": "6076b24b-0813-4e10-8d23-5cf82ad0d77b"
   },
   "outputs": [
    {
     "name": "stdout",
     "output_type": "stream",
     "text": [
      "[1, 2, 3, 4, 6, 'j', 'k', 'l']\n",
      "[1, 2, 3, 4, 6, 'j', 'k', 'l']\n",
      "[1, 2, 3, 4, 6, 'j', 'k', 'l']\n",
      "[1, 2, 3, 4, 6, 'j', 'k', 'l']\n",
      "[1, 2, 3, 4, 6, 'j', 'k', 'l']\n",
      "[1, 2, 3, 4, 6, 'j', 'k', 'l']\n",
      "[1, 2, 3, 4, 6, 'j', 'k', 'l']\n",
      "[1, 2, 3, 4, 6, 'j', 'k', 'l']\n"
     ]
    },
    {
     "data": {
      "text/plain": [
       "[None, None, None, None, None, None, None, None]"
      ]
     },
     "execution_count": 24,
     "metadata": {},
     "output_type": "execute_result"
    }
   ],
   "source": [
    "b = [1,2,3,4,6,'j','k','l']\n",
    "\n",
    "[print(b) for z in b]\n",
    "  \n",
    "\n"
   ]
  },
  {
   "cell_type": "code",
   "execution_count": 25,
   "metadata": {
    "colab": {
     "base_uri": "https://localhost:8080/"
    },
    "id": "dTZRENR4WIi0",
    "outputId": "b881836e-00f5-44e1-83f9-7675d92442a4"
   },
   "outputs": [
    {
     "name": "stdout",
     "output_type": "stream",
     "text": [
      "[1, 2, 3, 4, 6, 'j', 'k', 'l']\n",
      "[1, 2, 3, 4, 6, 'j', 'k', 'l']\n",
      "[1, 2, 3, 4, 6, 'j', 'k', 'l']\n",
      "[1, 2, 3, 4, 6, 'j', 'k', 'l']\n",
      "[1, 2, 3, 4, 6, 'j', 'k', 'l']\n",
      "[1, 2, 3, 4, 6, 'j', 'k', 'l']\n",
      "[1, 2, 3, 4, 6, 'j', 'k', 'l']\n",
      "[1, 2, 3, 4, 6, 'j', 'k', 'l']\n"
     ]
    }
   ],
   "source": [
    "b = [1,2,3,4,6,'j','k','l']\n",
    "\n",
    "for z in b:\n",
    "  print(b)\n",
    "  "
   ]
  },
  {
   "cell_type": "code",
   "execution_count": null,
   "metadata": {
    "colab": {
     "base_uri": "https://localhost:8080/"
    },
    "id": "0CO1xgwsWahU",
    "outputId": "983fd8bc-1398-4d5a-97d4-6b19c4b955f8"
   },
   "outputs": [],
   "source": [
    "\n",
    "\n"
   ]
  },
  {
   "cell_type": "code",
   "execution_count": null,
   "metadata": {
    "id": "V9ZvZpEyW6oS"
   },
   "outputs": [],
   "source": []
  },
  {
   "cell_type": "code",
   "execution_count": null,
   "metadata": {},
   "outputs": [],
   "source": []
  }
 ],
 "metadata": {
  "colab": {
   "name": "Python Practice_1.ipynb",
   "provenance": []
  },
  "kernelspec": {
   "display_name": "Python 3 (ipykernel)",
   "language": "python",
   "name": "python3"
  },
  "language_info": {
   "codemirror_mode": {
    "name": "ipython",
    "version": 3
   },
   "file_extension": ".py",
   "mimetype": "text/x-python",
   "name": "python",
   "nbconvert_exporter": "python",
   "pygments_lexer": "ipython3",
   "version": "3.9.7"
  }
 },
 "nbformat": 4,
 "nbformat_minor": 1
}
